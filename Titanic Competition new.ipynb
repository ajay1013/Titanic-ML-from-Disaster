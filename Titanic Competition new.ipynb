{
 "cells": [
  {
   "cell_type": "code",
   "execution_count": 1,
   "metadata": {},
   "outputs": [
    {
     "data": {
      "text/plain": [
       "'\\npclass refers to passenger class (1st, 2nd, 3rd), and is a proxy for socio-economic class\\nAge is in years, and some infants had fractional values.\\n\\nPclass :- Passenger Class (1 = 1st; 2 = 2nd; 3 = 3rd) \\n\\nsurvival :- Survival (0 = No; 1 = Yes)\\nname :- Name\\nsex :- Sex\\nage :- Age\\nsibsp :- Number of Siblings/Spouses Aboard\\nparch :- Number of Parents/Children Aboard\\nticket :- Ticket Number\\nfare :- Passenger Fare (British pound)\\ncabin :- Cabin\\nembarked :- Port of Embarkation (C = Cherbourg; Q = Queenstown; S = Southampton)\\n\\n'"
      ]
     },
     "execution_count": 1,
     "metadata": {},
     "output_type": "execute_result"
    }
   ],
   "source": [
    "\"\"\"\n",
    "pclass refers to passenger class (1st, 2nd, 3rd), and is a proxy for socio-economic class\n",
    "Age is in years, and some infants had fractional values.\n",
    "\n",
    "Pclass :- Passenger Class (1 = 1st; 2 = 2nd; 3 = 3rd) \\n\n",
    "survival :- Survival (0 = No; 1 = Yes)\n",
    "name :- Name\n",
    "sex :- Sex\n",
    "age :- Age\n",
    "sibsp :- Number of Siblings/Spouses Aboard\n",
    "parch :- Number of Parents/Children Aboard\n",
    "ticket :- Ticket Number\n",
    "fare :- Passenger Fare (British pound)\n",
    "cabin :- Cabin\n",
    "embarked :- Port of Embarkation (C = Cherbourg; Q = Queenstown; S = Southampton)\n",
    "\n",
    "\"\"\""
   ]
  },
  {
   "cell_type": "code",
   "execution_count": 2,
   "metadata": {},
   "outputs": [
    {
     "data": {
      "text/plain": [
       "'\\nPclass is a proxy for socio-economic status (SES)\\n1st ~ Upper; 2nd ~ Middle; 3rd ~ Lower\\n\\nAge is in Years; Fractional if Age less than One (1)\\nIf the Age is estimated, it is in the form xx.5\\n\\nFare is in Pre-1970 British Pounds ()\\n\\nWith respect to the family relation variables (i.e. sibsp and parch) some relations were\\nignored. The following are the definitions used for sibsp and parch.\\n\\nSibling: Brother, Sister, Stepbrother, or Stepsister of Passenger Aboard Titanic\\nSpouse: Husband or Wife of Passenger Aboard Titanic (Mistresses and Fiances Ignored)\\n\\nParent: Mother or Father of Passenger Aboard Titanic\\nChild: Son, Daughter, Stepson, or Stepdaughter of Passenger Aboard Titanic\\n'"
      ]
     },
     "execution_count": 2,
     "metadata": {},
     "output_type": "execute_result"
    }
   ],
   "source": [
    "\"\"\"\n",
    "Pclass is a proxy for socio-economic status (SES)\n",
    "1st ~ Upper; 2nd ~ Middle; 3rd ~ Lower\n",
    "\n",
    "Age is in Years; Fractional if Age less than One (1)\n",
    "If the Age is estimated, it is in the form xx.5\n",
    "\n",
    "Fare is in Pre-1970 British Pounds ()\n",
    "\n",
    "With respect to the family relation variables (i.e. sibsp and parch) some relations were\n",
    "ignored. The following are the definitions used for sibsp and parch.\n",
    "\n",
    "Sibling: Brother, Sister, Stepbrother, or Stepsister of Passenger Aboard Titanic\n",
    "Spouse: Husband or Wife of Passenger Aboard Titanic (Mistresses and Fiances Ignored)\n",
    "\n",
    "Parent: Mother or Father of Passenger Aboard Titanic\n",
    "Child: Son, Daughter, Stepson, or Stepdaughter of Passenger Aboard Titanic\n",
    "\"\"\""
   ]
  },
  {
   "cell_type": "code",
   "execution_count": 3,
   "metadata": {},
   "outputs": [
    {
     "data": {
      "text/plain": [
       "'\\nPclass is a proxy for socio-economic status (SES)\\n1st ~ Upper; 2nd ~ Middle; 3rd ~ Lower\\nAge is in Years; Fractional if Age less than One (1)\\nIf the Age is estimated, it is in the form xx.5\\nFare is in Pre-1970 British Pounds ()\\nConversion Factors: 1 = 12s = 240d and 1s = 20d\\n'"
      ]
     },
     "execution_count": 3,
     "metadata": {},
     "output_type": "execute_result"
    }
   ],
   "source": [
    "\"\"\"\n",
    "Pclass is a proxy for socio-economic status (SES)\n",
    "1st ~ Upper; 2nd ~ Middle; 3rd ~ Lower\n",
    "Age is in Years; Fractional if Age less than One (1)\n",
    "If the Age is estimated, it is in the form xx.5\n",
    "Fare is in Pre-1970 British Pounds ()\n",
    "Conversion Factors: 1 = 12s = 240d and 1s = 20d\n",
    "\"\"\""
   ]
  },
  {
   "cell_type": "code",
   "execution_count": 4,
   "metadata": {},
   "outputs": [],
   "source": [
    "import numpy as np\n",
    "import pandas as pd\n",
    "import matplotlib.pyplot as plt\n",
    "import seaborn as sns\n",
    "import pickle\n",
    "from collections import Counter\n",
    "from sklearn.model_selection import train_test_split, KFold\n",
    "from sklearn.linear_model import LogisticRegression\n",
    "from sklearn.metrics import accuracy_score, f1_score, confusion_matrix, classification_report\n",
    "import warnings\n",
    "warnings.filterwarnings(\"ignore\")"
   ]
  },
  {
   "cell_type": "code",
   "execution_count": 5,
   "metadata": {},
   "outputs": [
    {
     "data": {
      "text/plain": [
       "(891, 12)"
      ]
     },
     "execution_count": 5,
     "metadata": {},
     "output_type": "execute_result"
    }
   ],
   "source": [
    "titanic = pd.read_csv(\"D:/Data Science/DataSets/titanic/train.csv\")\n",
    "titanic.shape"
   ]
  },
  {
   "cell_type": "code",
   "execution_count": 6,
   "metadata": {
    "scrolled": true
   },
   "outputs": [
    {
     "data": {
      "text/html": [
       "<div>\n",
       "<style scoped>\n",
       "    .dataframe tbody tr th:only-of-type {\n",
       "        vertical-align: middle;\n",
       "    }\n",
       "\n",
       "    .dataframe tbody tr th {\n",
       "        vertical-align: top;\n",
       "    }\n",
       "\n",
       "    .dataframe thead th {\n",
       "        text-align: right;\n",
       "    }\n",
       "</style>\n",
       "<table border=\"1\" class=\"dataframe\">\n",
       "  <thead>\n",
       "    <tr style=\"text-align: right;\">\n",
       "      <th></th>\n",
       "      <th>PassengerId</th>\n",
       "      <th>Survived</th>\n",
       "      <th>Pclass</th>\n",
       "      <th>Name</th>\n",
       "      <th>Sex</th>\n",
       "      <th>Age</th>\n",
       "      <th>SibSp</th>\n",
       "      <th>Parch</th>\n",
       "      <th>Ticket</th>\n",
       "      <th>Fare</th>\n",
       "      <th>Cabin</th>\n",
       "      <th>Embarked</th>\n",
       "    </tr>\n",
       "  </thead>\n",
       "  <tbody>\n",
       "    <tr>\n",
       "      <th>0</th>\n",
       "      <td>1</td>\n",
       "      <td>0</td>\n",
       "      <td>3</td>\n",
       "      <td>Braund, Mr. Owen Harris</td>\n",
       "      <td>male</td>\n",
       "      <td>22.0</td>\n",
       "      <td>1</td>\n",
       "      <td>0</td>\n",
       "      <td>A/5 21171</td>\n",
       "      <td>7.2500</td>\n",
       "      <td>NaN</td>\n",
       "      <td>S</td>\n",
       "    </tr>\n",
       "    <tr>\n",
       "      <th>1</th>\n",
       "      <td>2</td>\n",
       "      <td>1</td>\n",
       "      <td>1</td>\n",
       "      <td>Cumings, Mrs. John Bradley (Florence Briggs Th...</td>\n",
       "      <td>female</td>\n",
       "      <td>38.0</td>\n",
       "      <td>1</td>\n",
       "      <td>0</td>\n",
       "      <td>PC 17599</td>\n",
       "      <td>71.2833</td>\n",
       "      <td>C85</td>\n",
       "      <td>C</td>\n",
       "    </tr>\n",
       "    <tr>\n",
       "      <th>2</th>\n",
       "      <td>3</td>\n",
       "      <td>1</td>\n",
       "      <td>3</td>\n",
       "      <td>Heikkinen, Miss. Laina</td>\n",
       "      <td>female</td>\n",
       "      <td>26.0</td>\n",
       "      <td>0</td>\n",
       "      <td>0</td>\n",
       "      <td>STON/O2. 3101282</td>\n",
       "      <td>7.9250</td>\n",
       "      <td>NaN</td>\n",
       "      <td>S</td>\n",
       "    </tr>\n",
       "    <tr>\n",
       "      <th>3</th>\n",
       "      <td>4</td>\n",
       "      <td>1</td>\n",
       "      <td>1</td>\n",
       "      <td>Futrelle, Mrs. Jacques Heath (Lily May Peel)</td>\n",
       "      <td>female</td>\n",
       "      <td>35.0</td>\n",
       "      <td>1</td>\n",
       "      <td>0</td>\n",
       "      <td>113803</td>\n",
       "      <td>53.1000</td>\n",
       "      <td>C123</td>\n",
       "      <td>S</td>\n",
       "    </tr>\n",
       "    <tr>\n",
       "      <th>4</th>\n",
       "      <td>5</td>\n",
       "      <td>0</td>\n",
       "      <td>3</td>\n",
       "      <td>Allen, Mr. William Henry</td>\n",
       "      <td>male</td>\n",
       "      <td>35.0</td>\n",
       "      <td>0</td>\n",
       "      <td>0</td>\n",
       "      <td>373450</td>\n",
       "      <td>8.0500</td>\n",
       "      <td>NaN</td>\n",
       "      <td>S</td>\n",
       "    </tr>\n",
       "  </tbody>\n",
       "</table>\n",
       "</div>"
      ],
      "text/plain": [
       "   PassengerId  Survived  Pclass  \\\n",
       "0            1         0       3   \n",
       "1            2         1       1   \n",
       "2            3         1       3   \n",
       "3            4         1       1   \n",
       "4            5         0       3   \n",
       "\n",
       "                                                Name     Sex   Age  SibSp  \\\n",
       "0                            Braund, Mr. Owen Harris    male  22.0      1   \n",
       "1  Cumings, Mrs. John Bradley (Florence Briggs Th...  female  38.0      1   \n",
       "2                             Heikkinen, Miss. Laina  female  26.0      0   \n",
       "3       Futrelle, Mrs. Jacques Heath (Lily May Peel)  female  35.0      1   \n",
       "4                           Allen, Mr. William Henry    male  35.0      0   \n",
       "\n",
       "   Parch            Ticket     Fare Cabin Embarked  \n",
       "0      0         A/5 21171   7.2500   NaN        S  \n",
       "1      0          PC 17599  71.2833   C85        C  \n",
       "2      0  STON/O2. 3101282   7.9250   NaN        S  \n",
       "3      0            113803  53.1000  C123        S  \n",
       "4      0            373450   8.0500   NaN        S  "
      ]
     },
     "execution_count": 6,
     "metadata": {},
     "output_type": "execute_result"
    }
   ],
   "source": [
    "titanic.head()"
   ]
  },
  {
   "cell_type": "code",
   "execution_count": 7,
   "metadata": {},
   "outputs": [
    {
     "data": {
      "text/plain": [
       "PassengerId      0\n",
       "Survived         0\n",
       "Pclass           0\n",
       "Name             0\n",
       "Sex              0\n",
       "Age            177\n",
       "SibSp            0\n",
       "Parch            0\n",
       "Ticket           0\n",
       "Fare             0\n",
       "Cabin          687\n",
       "Embarked         2\n",
       "dtype: int64"
      ]
     },
     "execution_count": 7,
     "metadata": {},
     "output_type": "execute_result"
    }
   ],
   "source": [
    "titanic.isna().sum()"
   ]
  },
  {
   "cell_type": "code",
   "execution_count": 8,
   "metadata": {},
   "outputs": [
    {
     "data": {
      "text/plain": [
       "<BarContainer object of 88 artists>"
      ]
     },
     "execution_count": 8,
     "metadata": {},
     "output_type": "execute_result"
    },
    {
     "data": {
      "image/png": "[encoded data removed]",
      "text/plain": [
       "<Figure size 432x288 with 1 Axes>"
      ]
     },
     "metadata": {
      "needs_background": "light"
     },
     "output_type": "display_data"
    }
   ],
   "source": [
    "a = titanic[\"Age\"].value_counts().keys().tolist()\n",
    "b = titanic[\"Age\"].value_counts().tolist()\n",
    "plt.bar(a, b, color='red')"
   ]
  },
  {
   "cell_type": "code",
   "execution_count": 9,
   "metadata": {},
   "outputs": [
    {
     "data": {
      "text/plain": [
       "3    491\n",
       "1    216\n",
       "2    184\n",
       "Name: Pclass, dtype: int64"
      ]
     },
     "execution_count": 9,
     "metadata": {},
     "output_type": "execute_result"
    }
   ],
   "source": [
    "titanic[\"Pclass\"].value_counts()"
   ]
  },
  {
   "cell_type": "code",
   "execution_count": 10,
   "metadata": {},
   "outputs": [
    {
     "data": {
      "text/plain": [
       "<BarContainer object of 248 artists>"
      ]
     },
     "execution_count": 10,
     "metadata": {},
     "output_type": "execute_result"
    },
    {
     "data": {
      "image/png": "[encoded data removed]",
      "text/plain": [
       "<Figure size 432x288 with 1 Axes>"
      ]
     },
     "metadata": {
      "needs_background": "light"
     },
     "output_type": "display_data"
    }
   ],
   "source": [
    "p = titanic[\"Fare\"].value_counts().keys().tolist()\n",
    "q = titanic[\"Fare\"].value_counts().tolist()\n",
    "plt.bar(p, q, color='red')"
   ]
  },
  {
   "cell_type": "code",
   "execution_count": 11,
   "metadata": {},
   "outputs": [
    {
     "data": {
      "text/html": [
       "<div>\n",
       "<style scoped>\n",
       "    .dataframe tbody tr th:only-of-type {\n",
       "        vertical-align: middle;\n",
       "    }\n",
       "\n",
       "    .dataframe tbody tr th {\n",
       "        vertical-align: top;\n",
       "    }\n",
       "\n",
       "    .dataframe thead th {\n",
       "        text-align: right;\n",
       "    }\n",
       "</style>\n",
       "<table border=\"1\" class=\"dataframe\">\n",
       "  <thead>\n",
       "    <tr style=\"text-align: right;\">\n",
       "      <th></th>\n",
       "      <th>PassengerId</th>\n",
       "      <th>Survived</th>\n",
       "      <th>Pclass</th>\n",
       "      <th>Age</th>\n",
       "      <th>SibSp</th>\n",
       "      <th>Parch</th>\n",
       "      <th>Fare</th>\n",
       "    </tr>\n",
       "  </thead>\n",
       "  <tbody>\n",
       "    <tr>\n",
       "      <th>PassengerId</th>\n",
       "      <td>1.000000</td>\n",
       "      <td>-0.005007</td>\n",
       "      <td>-0.035144</td>\n",
       "      <td>0.036847</td>\n",
       "      <td>-0.057527</td>\n",
       "      <td>-0.001652</td>\n",
       "      <td>0.012658</td>\n",
       "    </tr>\n",
       "    <tr>\n",
       "      <th>Survived</th>\n",
       "      <td>-0.005007</td>\n",
       "      <td>1.000000</td>\n",
       "      <td>-0.338481</td>\n",
       "      <td>-0.077221</td>\n",
       "      <td>-0.035322</td>\n",
       "      <td>0.081629</td>\n",
       "      <td>0.257307</td>\n",
       "    </tr>\n",
       "    <tr>\n",
       "      <th>Pclass</th>\n",
       "      <td>-0.035144</td>\n",
       "      <td>-0.338481</td>\n",
       "      <td>1.000000</td>\n",
       "      <td>-0.369226</td>\n",
       "      <td>0.083081</td>\n",
       "      <td>0.018443</td>\n",
       "      <td>-0.549500</td>\n",
       "    </tr>\n",
       "    <tr>\n",
       "      <th>Age</th>\n",
       "      <td>0.036847</td>\n",
       "      <td>-0.077221</td>\n",
       "      <td>-0.369226</td>\n",
       "      <td>1.000000</td>\n",
       "      <td>-0.308247</td>\n",
       "      <td>-0.189119</td>\n",
       "      <td>0.096067</td>\n",
       "    </tr>\n",
       "    <tr>\n",
       "      <th>SibSp</th>\n",
       "      <td>-0.057527</td>\n",
       "      <td>-0.035322</td>\n",
       "      <td>0.083081</td>\n",
       "      <td>-0.308247</td>\n",
       "      <td>1.000000</td>\n",
       "      <td>0.414838</td>\n",
       "      <td>0.159651</td>\n",
       "    </tr>\n",
       "    <tr>\n",
       "      <th>Parch</th>\n",
       "      <td>-0.001652</td>\n",
       "      <td>0.081629</td>\n",
       "      <td>0.018443</td>\n",
       "      <td>-0.189119</td>\n",
       "      <td>0.414838</td>\n",
       "      <td>1.000000</td>\n",
       "      <td>0.216225</td>\n",
       "    </tr>\n",
       "    <tr>\n",
       "      <th>Fare</th>\n",
       "      <td>0.012658</td>\n",
       "      <td>0.257307</td>\n",
       "      <td>-0.549500</td>\n",
       "      <td>0.096067</td>\n",
       "      <td>0.159651</td>\n",
       "      <td>0.216225</td>\n",
       "      <td>1.000000</td>\n",
       "    </tr>\n",
       "  </tbody>\n",
       "</table>\n",
       "</div>"
      ],
      "text/plain": [
       "             PassengerId  Survived    Pclass       Age     SibSp     Parch  \\\n",
       "PassengerId     1.000000 -0.005007 -0.035144  0.036847 -0.057527 -0.001652   \n",
       "Survived       -0.005007  1.000000 -0.338481 -0.077221 -0.035322  0.081629   \n",
       "Pclass         -0.035144 -0.338481  1.000000 -0.369226  0.083081  0.018443   \n",
       "Age             0.036847 -0.077221 -0.369226  1.000000 -0.308247 -0.189119   \n",
       "SibSp          -0.057527 -0.035322  0.083081 -0.308247  1.000000  0.414838   \n",
       "Parch          -0.001652  0.081629  0.018443 -0.189119  0.414838  1.000000   \n",
       "Fare            0.012658  0.257307 -0.549500  0.096067  0.159651  0.216225   \n",
       "\n",
       "                 Fare  \n",
       "PassengerId  0.012658  \n",
       "Survived     0.257307  \n",
       "Pclass      -0.549500  \n",
       "Age          0.096067  \n",
       "SibSp        0.159651  \n",
       "Parch        0.216225  \n",
       "Fare         1.000000  "
      ]
     },
     "execution_count": 11,
     "metadata": {},
     "output_type": "execute_result"
    }
   ],
   "source": [
    "corr = titanic.corr()\n",
    "corr"
   ]
  },
  {
   "cell_type": "code",
   "execution_count": 12,
   "metadata": {},
   "outputs": [
    {
     "data": {
      "text/plain": [
       "<matplotlib.axes._subplots.AxesSubplot at 0x18706e12948>"
      ]
     },
     "execution_count": 12,
     "metadata": {},
     "output_type": "execute_result"
    },
    {
     "data": {
      "image/png": "[encoded data removed]",
      "text/plain": [
       "<Figure size 432x288 with 2 Axes>"
      ]
     },
     "metadata": {
      "needs_background": "light"
     },
     "output_type": "display_data"
    }
   ],
   "source": [
    "sns.heatmap(corr)"
   ]
  },
  {
   "cell_type": "code",
   "execution_count": 13,
   "metadata": {},
   "outputs": [
    {
     "data": {
      "text/plain": [
       "<seaborn.axisgrid.FacetGrid at 0x18706e97088>"
      ]
     },
     "execution_count": 13,
     "metadata": {},
     "output_type": "execute_result"
    },
    {
     "data": {
      "image/png": "[encoded data removed]",
      "text/plain": [
       "<Figure size 360x360 with 1 Axes>"
      ]
     },
     "metadata": {
      "needs_background": "light"
     },
     "output_type": "display_data"
    }
   ],
   "source": [
    "sns.factorplot(\"Sex\", data=titanic, kind=\"count\")"
   ]
  },
  {
   "cell_type": "code",
   "execution_count": 14,
   "metadata": {},
   "outputs": [
    {
     "data": {
      "image/png": "[encoded data removed]",
      "text/plain": [
       "<Figure size 1440x432 with 1 Axes>"
      ]
     },
     "metadata": {
      "needs_background": "light"
     },
     "output_type": "display_data"
    }
   ],
   "source": [
    "pd.crosstab(titanic.Age,titanic.Sex).plot(kind=\"bar\",figsize=(20,6))\n",
    "plt.show()"
   ]
  },
  {
   "cell_type": "code",
   "execution_count": 15,
   "metadata": {},
   "outputs": [
    {
     "data": {
      "image/png": "[encoded data removed]",
      "text/plain": [
       "<Figure size 1296x432 with 1 Axes>"
      ]
     },
     "metadata": {
      "needs_background": "light"
     },
     "output_type": "display_data"
    }
   ],
   "source": [
    "pd.crosstab(titanic.Sex,titanic.Pclass).plot(kind=\"bar\",figsize=(18,6))\n",
    "plt.grid()\n",
    "plt.show()"
   ]
  },
  {
   "cell_type": "code",
   "execution_count": 16,
   "metadata": {
    "scrolled": true
   },
   "outputs": [
    {
     "data": {
      "image/png": "[encoded data removed]",
      "text/plain": [
       "<Figure size 1440x432 with 1 Axes>"
      ]
     },
     "metadata": {
      "needs_background": "light"
     },
     "output_type": "display_data"
    }
   ],
   "source": [
    "pd.crosstab(titanic.Survived,titanic.Embarked).plot(kind=\"bar\",figsize=(20,6))\n",
    "plt.show()"
   ]
  },
  {
   "cell_type": "code",
   "execution_count": 17,
   "metadata": {},
   "outputs": [
    {
     "data": {
      "text/plain": [
       "0    678\n",
       "1    118\n",
       "2     80\n",
       "5      5\n",
       "3      5\n",
       "4      4\n",
       "6      1\n",
       "Name: Parch, dtype: int64"
      ]
     },
     "execution_count": 17,
     "metadata": {},
     "output_type": "execute_result"
    }
   ],
   "source": [
    "titanic[\"Parch\"].value_counts()"
   ]
  },
  {
   "cell_type": "code",
   "execution_count": 18,
   "metadata": {},
   "outputs": [
    {
     "data": {
      "text/plain": [
       "0    608\n",
       "1    209\n",
       "2     28\n",
       "4     18\n",
       "3     16\n",
       "8      7\n",
       "5      5\n",
       "Name: SibSp, dtype: int64"
      ]
     },
     "execution_count": 18,
     "metadata": {},
     "output_type": "execute_result"
    }
   ],
   "source": [
    "titanic[\"SibSp\"].value_counts()"
   ]
  },
  {
   "cell_type": "code",
   "execution_count": 19,
   "metadata": {},
   "outputs": [],
   "source": [
    "titanic[\"TotalMembers\"] = titanic[\"Parch\"] + titanic[\"SibSp\"] + 1\n",
    "titanic[\"Title\"] = 1"
   ]
  },
  {
   "cell_type": "code",
   "execution_count": 20,
   "metadata": {},
   "outputs": [],
   "source": [
    "for i in range(891):\n",
    "    x = titanic[\"Name\"][i].split()\n",
    "    sr = x[1]\n",
    "    titanic[\"Title\"][i] = sr"
   ]
  },
  {
   "cell_type": "code",
   "execution_count": 21,
   "metadata": {},
   "outputs": [
    {
     "data": {
      "text/plain": [
       "1    537\n",
       "0    354\n",
       "Name: IsAlone, dtype: int64"
      ]
     },
     "execution_count": 21,
     "metadata": {},
     "output_type": "execute_result"
    }
   ],
   "source": [
    "titanic['IsAlone'] = titanic[\"TotalMembers\"].apply(lambda x: 1 if x == 1 else 0)\n",
    "titanic[\"IsAlone\"].value_counts()"
   ]
  },
  {
   "cell_type": "code",
   "execution_count": 22,
   "metadata": {},
   "outputs": [
    {
     "data": {
      "image/png": "[encoded data removed]",
      "text/plain": [
       "<Figure size 1440x432 with 1 Axes>"
      ]
     },
     "metadata": {
      "needs_background": "light"
     },
     "output_type": "display_data"
    }
   ],
   "source": [
    "pd.crosstab(titanic.SibSp,titanic.Survived).plot(kind=\"bar\",figsize=(20,6))\n",
    "plt.show()"
   ]
  },
  {
   "cell_type": "code",
   "execution_count": 23,
   "metadata": {},
   "outputs": [
    {
     "data": {
      "text/plain": [
       "0    502\n",
       "1    179\n",
       "2    121\n",
       "4     49\n",
       "3     40\n",
       "Name: Title, dtype: int64"
      ]
     },
     "execution_count": 23,
     "metadata": {},
     "output_type": "execute_result"
    }
   ],
   "source": [
    "def title(d):\n",
    "    for i in range(891):\n",
    "        if d == \"Mr.\":\n",
    "            return 0\n",
    "        elif d == \"Miss.\":\n",
    "            return 1\n",
    "        elif d == \"Mrs.\":\n",
    "            return 2\n",
    "        elif d == \"Master.\":\n",
    "            return 3\n",
    "        else:\n",
    "            return 4\n",
    "\n",
    "titanic[\"Title\"] = titanic[\"Title\"].apply(title)\n",
    "titanic[\"Title\"].value_counts()"
   ]
  },
  {
   "cell_type": "code",
   "execution_count": 24,
   "metadata": {},
   "outputs": [
    {
     "data": {
      "text/plain": [
       "0    644\n",
       "1    168\n",
       "2     79\n",
       "Name: Embarked, dtype: int64"
      ]
     },
     "execution_count": 24,
     "metadata": {},
     "output_type": "execute_result"
    }
   ],
   "source": [
    "def Embarked(s):\n",
    "    for i in range(891):\n",
    "        if s == \"S\":\n",
    "            return 0\n",
    "        elif s == \"C\":\n",
    "            return 1\n",
    "        else:\n",
    "            return 2\n",
    "\n",
    "titanic[\"Embarked\"] = titanic[\"Embarked\"].apply(Embarked)\n",
    "titanic.Embarked.value_counts()"
   ]
  },
  {
   "cell_type": "code",
   "execution_count": 25,
   "metadata": {},
   "outputs": [
    {
     "data": {
      "image/png": "[encoded data removed]",
      "text/plain": [
       "<Figure size 440x648 with 6 Axes>"
      ]
     },
     "metadata": {
      "needs_background": "light"
     },
     "output_type": "display_data"
    }
   ],
   "source": [
    "grid = sns.FacetGrid(titanic, col='Survived', row='Pclass')\n",
    "grid.map(plt.hist, 'Age', alpha=.5, bins=20)\n",
    "grid.add_legend();"
   ]
  },
  {
   "cell_type": "code",
   "execution_count": 26,
   "metadata": {},
   "outputs": [],
   "source": [
    "titanic.loc[titanic['Age'].isnull()&(titanic['Pclass'] == 1) &(titanic['Sex'] == 'male'),'Age']=46\n",
    "titanic.loc[titanic['Age'].isnull()&(titanic['Pclass'] == 1) &(titanic['Sex'] == 'female'),'Age']=38\n",
    "titanic.loc[titanic['Age'].isnull()&(titanic['Pclass'] == 2) &(titanic['Sex'] == 'male'),'Age']=28\n",
    "titanic.loc[titanic['Age'].isnull()&(titanic['Pclass'] == 2) &(titanic['Sex'] == 'female'),'Age']=25\n",
    "titanic.loc[titanic['Age'].isnull()&(titanic['Pclass'] == 3) &(titanic['Sex'] == 'male'),'Age']=20\n",
    "titanic.loc[titanic['Age'].isnull()&(titanic['Pclass'] == 3) &(titanic['Sex'] == 'female'),'Age']=17"
   ]
  },
  {
   "cell_type": "markdown",
   "metadata": {},
   "source": [
    "def bar_chart(feature):\n",
    "    survived = df_train[df_train['Survived']==1][feature].value_counts()\n",
    "    not_survived = df_train[df_train['Survived']==0][feature].value_counts()\n",
    "    df = pd.DataFrame([survived,not_survived])\n",
    "    df.index=['Survived','Not_survived']\n",
    "    df.plot(kind='bar',stacked=True,fig=(18,6),title=feature)"
   ]
  },
  {
   "cell_type": "code",
   "execution_count": 27,
   "metadata": {},
   "outputs": [
    {
     "name": "stdout",
     "output_type": "stream",
     "text": [
      "0 22.0 male 3\n",
      "2 38.0 female 1\n",
      "1 26.0 female 3\n",
      "2 35.0 female 1\n",
      "0 35.0 male 3\n",
      "0 20.0 male 3\n",
      "0 54.0 male 1\n",
      "3 2.0 male 3\n",
      "2 27.0 female 3\n",
      "2 14.0 female 2\n",
      "1 4.0 female 3\n",
      "1 58.0 female 1\n",
      "0 20.0 male 3\n",
      "0 39.0 male 3\n",
      "1 14.0 female 3\n",
      "2 55.0 female 2\n",
      "3 2.0 male 3\n",
      "0 28.0 male 2\n",
      "4 31.0 female 3\n",
      "2 17.0 female 3\n",
      "0 35.0 male 2\n",
      "0 34.0 male 2\n",
      "1 15.0 female 3\n",
      "0 28.0 male 1\n",
      "1 8.0 female 3\n",
      "2 38.0 female 3\n",
      "0 20.0 male 3\n",
      "0 19.0 male 1\n",
      "1 17.0 female 3\n",
      "0 20.0 male 3\n",
      "4 40.0 male 1\n",
      "2 38.0 female 1\n",
      "1 17.0 female 3\n",
      "0 66.0 male 2\n",
      "0 28.0 male 1\n",
      "0 42.0 male 1\n",
      "0 20.0 male 3\n",
      "0 21.0 male 3\n",
      "4 18.0 female 3\n",
      "1 14.0 female 3\n",
      "2 40.0 female 3\n",
      "2 27.0 female 2\n",
      "0 20.0 male 3\n",
      "1 3.0 female 2\n",
      "1 19.0 female 3\n",
      "0 20.0 male 3\n",
      "0 20.0 male 3\n",
      "1 17.0 female 3\n",
      "0 20.0 male 3\n",
      "2 18.0 female 3\n",
      "3 7.0 male 3\n",
      "0 21.0 male 3\n",
      "2 49.0 female 1\n",
      "2 29.0 female 2\n",
      "0 65.0 male 1\n",
      "0 46.0 male 1\n",
      "1 21.0 female 2\n",
      "0 28.5 male 3\n",
      "1 5.0 female 2\n",
      "3 11.0 male 3\n",
      "0 22.0 male 3\n",
      "1 38.0 female 1\n",
      "0 45.0 male 1\n",
      "3 4.0 male 3\n",
      "0 46.0 male 1\n",
      "3 20.0 male 3\n",
      "2 29.0 female 2\n",
      "0 19.0 male 3\n",
      "1 17.0 female 3\n",
      "0 26.0 male 3\n",
      "0 32.0 male 2\n",
      "1 16.0 female 3\n",
      "0 21.0 male 2\n",
      "0 26.0 male 3\n",
      "0 32.0 male 3\n",
      "0 25.0 male 3\n",
      "0 20.0 male 3\n",
      "0 20.0 male 3\n",
      "3 0.83 male 2\n",
      "1 30.0 female 3\n",
      "0 22.0 male 3\n",
      "0 29.0 male 3\n",
      "1 17.0 female 3\n",
      "0 28.0 male 1\n",
      "1 17.0 female 2\n",
      "2 33.0 female 3\n",
      "0 16.0 male 3\n",
      "0 20.0 male 3\n",
      "1 23.0 female 1\n",
      "0 24.0 male 3\n",
      "0 29.0 male 3\n",
      "0 20.0 male 3\n",
      "0 46.0 male 1\n",
      "0 26.0 male 3\n",
      "0 59.0 male 3\n",
      "0 20.0 male 3\n",
      "0 71.0 male 1\n",
      "0 23.0 male 1\n",
      "2 34.0 female 2\n",
      "0 34.0 male 2\n",
      "1 28.0 female 3\n",
      "0 20.0 male 3\n",
      "0 21.0 male 1\n",
      "0 33.0 male 3\n",
      "0 37.0 male 3\n",
      "0 28.0 male 3\n",
      "1 21.0 female 3\n",
      "0 20.0 male 3\n",
      "0 38.0 male 3\n",
      "1 17.0 female 3\n",
      "0 47.0 male 1\n",
      "1 14.5 female 3\n",
      "0 22.0 male 3\n",
      "1 20.0 female 3\n",
      "1 17.0 female 3\n",
      "0 21.0 male 3\n",
      "0 70.5 male 3\n",
      "0 29.0 male 2\n",
      "0 24.0 male 1\n",
      "1 2.0 female 3\n",
      "0 21.0 male 2\n",
      "0 20.0 male 3\n",
      "0 32.5 male 2\n",
      "1 32.5 female 2\n",
      "0 54.0 male 1\n",
      "3 12.0 male 3\n",
      "0 20.0 male 3\n",
      "0 24.0 male 3\n",
      "1 17.0 female 3\n",
      "0 45.0 male 3\n",
      "0 33.0 male 3\n",
      "0 20.0 male 3\n",
      "2 47.0 female 3\n",
      "2 29.0 female 2\n",
      "0 25.0 male 2\n",
      "0 23.0 male 2\n",
      "1 19.0 female 1\n",
      "0 37.0 male 1\n",
      "0 16.0 male 3\n",
      "0 24.0 male 1\n",
      "2 17.0 female 3\n",
      "1 22.0 female 3\n",
      "2 24.0 female 3\n",
      "0 19.0 male 3\n",
      "0 18.0 male 2\n",
      "0 19.0 male 2\n",
      "0 27.0 male 3\n",
      "1 9.0 female 3\n",
      "0 36.5 male 2\n",
      "4 42.0 male 2\n",
      "4 51.0 male 2\n",
      "2 22.0 female 1\n",
      "0 55.5 male 3\n",
      "4 40.5 male 3\n",
      "0 20.0 male 3\n",
      "0 51.0 male 1\n",
      "1 16.0 female 3\n",
      "0 30.0 male 3\n",
      "0 20.0 male 3\n",
      "3 20.0 male 3\n",
      "0 44.0 male 3\n",
      "2 40.0 female 2\n",
      "0 26.0 male 3\n",
      "0 17.0 male 3\n",
      "3 1.0 male 3\n",
      "3 9.0 male 3\n",
      "2 38.0 female 1\n",
      "2 45.0 female 3\n",
      "0 46.0 male 1\n",
      "0 28.0 male 3\n",
      "4 61.0 male 1\n",
      "3 4.0 male 3\n",
      "1 1.0 female 3\n",
      "0 21.0 male 3\n",
      "0 56.0 male 1\n",
      "0 18.0 male 3\n",
      "3 20.0 male 3\n",
      "1 50.0 female 1\n",
      "0 30.0 male 2\n",
      "0 36.0 male 3\n",
      "1 17.0 female 3\n",
      "0 28.0 male 2\n",
      "3 9.0 male 3\n",
      "3 1.0 male 2\n",
      "1 4.0 female 3\n",
      "0 46.0 male 1\n",
      "2 17.0 female 3\n",
      "0 45.0 male 1\n",
      "0 40.0 male 3\n",
      "0 36.0 male 3\n",
      "2 32.0 female 2\n",
      "0 19.0 male 2\n",
      "1 19.0 female 3\n",
      "3 3.0 male 2\n",
      "2 44.0 female 1\n",
      "1 58.0 female 1\n",
      "0 20.0 male 3\n",
      "0 42.0 male 3\n",
      "1 17.0 female 3\n",
      "1 24.0 female 2\n",
      "4 28.0 male 3\n",
      "0 20.0 male 3\n",
      "0 34.0 male 3\n",
      "0 45.5 male 3\n",
      "0 18.0 male 3\n",
      "1 2.0 female 3\n",
      "0 32.0 male 3\n",
      "0 26.0 male 3\n",
      "1 16.0 female 3\n",
      "0 40.0 male 1\n",
      "0 24.0 male 3\n",
      "1 35.0 female 2\n",
      "0 22.0 male 3\n",
      "0 30.0 male 2\n",
      "0 20.0 male 3\n",
      "1 31.0 female 1\n",
      "1 27.0 female 3\n",
      "0 42.0 male 2\n",
      "1 32.0 female 1\n",
      "0 30.0 male 2\n",
      "0 16.0 male 3\n",
      "0 27.0 male 2\n",
      "0 51.0 male 3\n",
      "0 20.0 male 3\n",
      "0 38.0 male 1\n",
      "0 22.0 male 3\n",
      "0 19.0 male 2\n",
      "0 20.5 male 3\n",
      "0 18.0 male 2\n",
      "1 17.0 female 3\n",
      "2 35.0 female 1\n",
      "0 29.0 male 3\n",
      "0 59.0 male 2\n",
      "1 5.0 female 3\n",
      "0 24.0 male 2\n",
      "1 17.0 female 3\n",
      "0 44.0 male 2\n",
      "1 8.0 female 2\n",
      "0 19.0 male 2\n",
      "0 33.0 male 2\n",
      "1 17.0 female 3\n",
      "1 17.0 female 3\n",
      "0 29.0 male 2\n",
      "0 22.0 male 3\n",
      "0 30.0 male 3\n",
      "4 44.0 male 1\n",
      "1 25.0 female 3\n",
      "2 24.0 female 2\n",
      "0 37.0 male 1\n",
      "4 54.0 male 2\n",
      "0 20.0 male 3\n",
      "2 29.0 female 3\n",
      "0 62.0 male 1\n",
      "0 30.0 male 3\n",
      "2 41.0 female 3\n",
      "2 29.0 female 3\n",
      "2 38.0 female 1\n",
      "1 30.0 female 1\n",
      "1 35.0 female 1\n",
      "2 50.0 female 2\n",
      "0 20.0 male 3\n",
      "3 3.0 male 3\n",
      "0 52.0 male 1\n",
      "0 40.0 male 1\n",
      "1 17.0 female 3\n",
      "0 36.0 male 2\n",
      "0 16.0 male 3\n",
      "0 25.0 male 3\n",
      "2 58.0 female 1\n",
      "1 35.0 female 1\n",
      "0 46.0 male 1\n",
      "0 25.0 male 3\n",
      "2 41.0 female 2\n",
      "0 37.0 male 1\n",
      "1 17.0 female 3\n",
      "1 63.0 female 1\n",
      "1 45.0 female 3\n",
      "0 28.0 male 2\n",
      "3 7.0 male 3\n",
      "2 35.0 female 3\n",
      "0 65.0 male 3\n",
      "0 28.0 male 3\n",
      "4 16.0 male 3\n",
      "0 19.0 male 3\n",
      "0 46.0 male 1\n",
      "0 33.0 male 3\n",
      "4 30.0 male 3\n",
      "0 22.0 male 3\n",
      "0 42.0 male 2\n",
      "1 22.0 female 3\n",
      "1 26.0 female 1\n",
      "2 19.0 female 1\n",
      "0 36.0 male 2\n",
      "1 24.0 female 3\n",
      "0 24.0 male 3\n",
      "0 46.0 male 1\n",
      "0 23.5 male 3\n",
      "1 2.0 female 1\n",
      "0 46.0 male 1\n",
      "2 50.0 female 1\n",
      "1 17.0 female 3\n",
      "0 20.0 male 3\n",
      "0 19.0 male 3\n",
      "1 25.0 female 2\n",
      "0 20.0 male 3\n",
      "3 0.92 male 1\n",
      "1 38.0 female 1\n",
      "4 17.0 female 1\n",
      "0 30.0 male 2\n",
      "1 30.0 female 1\n",
      "1 24.0 female 1\n",
      "1 18.0 female 1\n",
      "2 26.0 female 2\n",
      "0 28.0 male 3\n",
      "0 43.0 male 2\n",
      "1 26.0 female 3\n",
      "2 24.0 female 2\n",
      "4 54.0 male 2\n",
      "1 31.0 female 1\n",
      "2 40.0 female 1\n",
      "0 22.0 male 3\n",
      "0 27.0 male 3\n",
      "1 30.0 female 2\n",
      "2 22.0 female 2\n",
      "0 20.0 male 3\n",
      "1 36.0 female 1\n",
      "0 61.0 male 3\n",
      "2 36.0 female 2\n",
      "2 31.0 female 3\n",
      "1 16.0 female 1\n",
      "1 17.0 female 3\n",
      "0 45.5 male 1\n",
      "0 38.0 male 1\n",
      "4 16.0 male 3\n",
      "2 38.0 female 1\n",
      "0 20.0 male 3\n",
      "0 29.0 male 1\n",
      "1 41.0 female 1\n",
      "0 45.0 male 3\n",
      "0 45.0 male 1\n",
      "3 2.0 male 2\n",
      "1 24.0 female 1\n",
      "0 28.0 male 2\n",
      "0 25.0 male 2\n",
      "0 36.0 male 2\n",
      "1 24.0 female 2\n",
      "1 40.0 female 2\n",
      "2 17.0 female 3\n",
      "3 3.0 male 3\n",
      "0 42.0 male 3\n",
      "0 23.0 male 3\n",
      "0 46.0 male 1\n",
      "0 15.0 male 3\n",
      "0 25.0 male 3\n",
      "0 20.0 male 3\n",
      "4 28.0 male 3\n",
      "1 22.0 female 1\n",
      "1 38.0 female 2\n",
      "1 17.0 female 3\n",
      "1 17.0 female 3\n",
      "0 40.0 male 3\n",
      "4 29.0 male 2\n",
      "2 45.0 female 3\n",
      "0 35.0 male 3\n",
      "0 20.0 male 3\n",
      "0 30.0 male 3\n",
      "2 60.0 female 1\n",
      "2 17.0 female 3\n",
      "1 17.0 female 3\n",
      "4 24.0 female 1\n",
      "0 25.0 male 1\n",
      "0 18.0 male 3\n",
      "0 19.0 male 3\n",
      "0 22.0 male 1\n",
      "1 3.0 female 3\n",
      "2 38.0 female 1\n",
      "1 22.0 female 3\n",
      "0 27.0 male 1\n",
      "0 20.0 male 3\n",
      "0 19.0 male 3\n",
      "1 42.0 female 1\n",
      "1 1.0 female 3\n",
      "0 32.0 male 3\n",
      "2 35.0 female 1\n",
      "0 20.0 male 3\n",
      "0 18.0 male 2\n",
      "3 1.0 male 3\n",
      "1 36.0 female 2\n",
      "0 20.0 male 3\n",
      "1 17.0 female 2\n",
      "0 36.0 male 1\n",
      "0 21.0 male 3\n",
      "0 28.0 male 3\n",
      "1 23.0 female 1\n",
      "2 24.0 female 3\n",
      "0 22.0 male 3\n",
      "1 31.0 female 3\n",
      "0 46.0 male 2\n",
      "4 23.0 male 2\n",
      "2 28.0 female 2\n",
      "0 39.0 male 3\n",
      "0 26.0 male 3\n",
      "1 21.0 female 3\n",
      "0 28.0 male 3\n",
      "1 20.0 female 3\n",
      "0 34.0 male 2\n",
      "0 51.0 male 3\n",
      "3 3.0 male 2\n",
      "0 21.0 male 3\n",
      "1 17.0 female 3\n",
      "0 20.0 male 3\n",
      "0 20.0 male 3\n",
      "1 33.0 female 1\n",
      "0 28.0 male 2\n",
      "0 44.0 male 3\n",
      "2 17.0 female 3\n",
      "2 34.0 female 2\n",
      "1 18.0 female 2\n",
      "0 30.0 male 2\n",
      "4 10.0 female 3\n",
      "0 20.0 male 3\n",
      "0 21.0 male 3\n",
      "0 29.0 male 3\n",
      "2 28.0 female 3\n",
      "0 18.0 male 3\n",
      "0 20.0 male 3\n",
      "2 28.0 female 2\n",
      "1 19.0 female 2\n",
      "0 20.0 male 3\n",
      "0 32.0 male 3\n",
      "0 28.0 male 1\n",
      "2 17.0 female 3\n",
      "2 42.0 female 2\n",
      "0 17.0 male 3\n",
      "0 50.0 male 1\n",
      "1 14.0 female 1\n",
      "1 21.0 female 3\n",
      "2 24.0 female 2\n",
      "0 64.0 male 1\n",
      "0 31.0 male 2\n",
      "2 45.0 female 2\n",
      "0 20.0 male 3\n",
      "0 25.0 male 3\n",
      "4 28.0 female 2\n",
      "0 20.0 male 3\n",
      "3 4.0 male 1\n",
      "1 13.0 female 2\n",
      "0 34.0 male 1\n",
      "1 5.0 female 3\n",
      "4 52.0 male 1\n",
      "0 36.0 male 2\n",
      "0 20.0 male 3\n",
      "0 30.0 male 1\n",
      "0 49.0 male 1\n",
      "0 20.0 male 3\n",
      "0 29.0 male 3\n",
      "0 65.0 male 1\n",
      "2 38.0 female 1\n",
      "1 50.0 female 2\n",
      "0 20.0 male 3\n",
      "0 48.0 male 1\n",
      "0 34.0 male 3\n",
      "0 47.0 male 1\n",
      "0 48.0 male 2\n",
      "0 20.0 male 3\n",
      "0 38.0 male 3\n",
      "0 28.0 male 2\n",
      "0 56.0 male 1\n",
      "0 20.0 male 3\n",
      "1 0.75 female 3\n",
      "0 20.0 male 3\n",
      "0 38.0 male 3\n",
      "2 33.0 female 2\n",
      "2 23.0 female 2\n",
      "1 22.0 female 3\n",
      "0 46.0 male 1\n",
      "0 34.0 male 2\n",
      "0 29.0 male 3\n",
      "0 22.0 male 3\n",
      "1 2.0 female 3\n",
      "3 9.0 male 3\n",
      "0 28.0 male 2\n",
      "0 50.0 male 3\n",
      "2 63.0 female 3\n",
      "0 25.0 male 1\n",
      "1 17.0 female 3\n",
      "2 35.0 female 1\n",
      "0 58.0 male 1\n",
      "0 30.0 male 3\n",
      "3 9.0 male 3\n",
      "0 20.0 male 3\n",
      "0 21.0 male 3\n",
      "0 55.0 male 1\n",
      "0 71.0 male 1\n",
      "0 21.0 male 3\n",
      "0 20.0 male 3\n",
      "1 54.0 female 1\n",
      "0 20.0 male 3\n",
      "2 25.0 female 1\n",
      "0 24.0 male 3\n",
      "0 17.0 male 3\n",
      "1 21.0 female 3\n",
      "1 17.0 female 3\n",
      "1 37.0 female 3\n",
      "1 16.0 female 1\n",
      "4 18.0 male 1\n",
      "2 33.0 female 2\n",
      "0 46.0 male 1\n",
      "0 28.0 male 3\n",
      "0 26.0 male 3\n",
      "0 29.0 male 3\n",
      "0 20.0 male 3\n",
      "0 36.0 male 1\n",
      "2 54.0 female 1\n",
      "0 24.0 male 3\n",
      "0 47.0 male 1\n",
      "2 34.0 female 2\n",
      "0 20.0 male 3\n",
      "2 36.0 female 2\n",
      "0 32.0 male 3\n",
      "1 30.0 female 1\n",
      "0 22.0 male 3\n",
      "0 20.0 male 3\n",
      "2 44.0 female 1\n",
      "0 20.0 male 3\n",
      "0 40.5 male 3\n",
      "1 50.0 female 2\n",
      "0 46.0 male 1\n",
      "0 39.0 male 3\n",
      "0 23.0 male 2\n",
      "1 2.0 female 2\n",
      "0 20.0 male 3\n",
      "0 17.0 male 3\n",
      "2 17.0 female 3\n",
      "1 30.0 female 3\n",
      "1 7.0 female 2\n",
      "4 45.0 male 1\n",
      "1 30.0 female 1\n",
      "0 20.0 male 3\n",
      "1 22.0 female 1\n",
      "1 36.0 female 1\n",
      "1 9.0 female 3\n",
      "1 11.0 female 3\n",
      "0 32.0 male 2\n",
      "0 50.0 male 1\n",
      "0 64.0 male 1\n",
      "2 19.0 female 2\n",
      "4 28.0 male 2\n",
      "0 33.0 male 3\n",
      "3 8.0 male 2\n",
      "0 17.0 male 1\n",
      "0 27.0 male 2\n",
      "0 20.0 male 3\n",
      "0 22.0 male 3\n",
      "1 22.0 female 3\n",
      "0 62.0 male 1\n",
      "4 48.0 female 1\n",
      "0 46.0 male 1\n",
      "2 39.0 female 1\n",
      "4 36.0 female 3\n",
      "0 20.0 male 3\n",
      "0 40.0 male 3\n",
      "0 28.0 male 2\n",
      "0 20.0 male 3\n",
      "1 17.0 female 3\n",
      "0 24.0 male 3\n",
      "0 19.0 male 3\n",
      "2 29.0 female 3\n",
      "0 20.0 male 3\n",
      "0 32.0 male 3\n",
      "0 62.0 male 2\n",
      "2 53.0 female 1\n",
      "0 36.0 male 1\n",
      "1 17.0 female 3\n",
      "0 16.0 male 3\n",
      "0 19.0 male 3\n",
      "1 34.0 female 2\n",
      "2 39.0 female 1\n",
      "2 17.0 female 3\n",
      "0 32.0 male 3\n",
      "1 25.0 female 2\n",
      "2 39.0 female 1\n",
      "0 54.0 male 2\n",
      "0 36.0 male 1\n",
      "0 20.0 male 3\n",
      "1 18.0 female 1\n",
      "0 47.0 male 2\n",
      "0 60.0 male 1\n",
      "0 22.0 male 3\n",
      "0 20.0 male 3\n",
      "0 35.0 male 3\n",
      "2 52.0 female 1\n",
      "0 47.0 male 3\n",
      "1 17.0 female 3\n",
      "0 37.0 male 2\n",
      "4 36.0 male 3\n",
      "1 25.0 female 2\n",
      "0 49.0 male 3\n",
      "0 20.0 male 3\n",
      "4 49.0 male 1\n",
      "2 24.0 female 2\n",
      "0 20.0 male 3\n",
      "0 46.0 male 1\n",
      "0 44.0 male 3\n",
      "0 35.0 male 1\n",
      "0 36.0 male 3\n",
      "0 30.0 male 3\n",
      "0 27.0 male 1\n",
      "2 22.0 female 2\n",
      "1 40.0 female 1\n",
      "2 39.0 female 3\n",
      "0 20.0 male 3\n",
      "1 17.0 female 3\n",
      "0 20.0 male 3\n",
      "0 35.0 male 3\n",
      "1 24.0 female 2\n",
      "0 34.0 male 3\n",
      "2 26.0 female 3\n",
      "1 4.0 female 2\n",
      "0 26.0 male 2\n",
      "0 27.0 male 3\n",
      "0 42.0 male 1\n",
      "0 20.0 male 3\n",
      "0 21.0 male 3\n",
      "0 21.0 male 3\n",
      "0 61.0 male 1\n",
      "4 57.0 male 2\n",
      "1 21.0 female 1\n",
      "0 26.0 male 3\n",
      "0 20.0 male 3\n",
      "0 80.0 male 1\n",
      "0 51.0 male 3\n",
      "4 32.0 male 1\n",
      "0 46.0 male 1\n",
      "1 9.0 female 3\n",
      "1 28.0 female 2\n",
      "0 32.0 male 3\n",
      "0 31.0 male 2\n",
      "2 41.0 female 3\n",
      "0 20.0 male 3\n",
      "0 20.0 male 3\n",
      "4 24.0 female 1\n",
      "1 2.0 female 3\n",
      "0 20.0 male 3\n",
      "1 0.75 female 3\n",
      "0 48.0 male 1\n",
      "0 19.0 male 3\n",
      "4 56.0 male 1\n",
      "0 20.0 male 3\n",
      "1 23.0 female 3\n",
      "0 20.0 male 3\n",
      "1 18.0 female 2\n",
      "0 21.0 male 3\n",
      "1 17.0 female 3\n",
      "1 18.0 female 3\n",
      "0 24.0 male 2\n",
      "0 20.0 male 3\n",
      "2 32.0 female 3\n",
      "0 23.0 male 2\n",
      "0 58.0 male 1\n",
      "4 50.0 male 1\n",
      "0 40.0 male 3\n",
      "0 47.0 male 1\n",
      "0 36.0 male 3\n",
      "0 20.0 male 3\n",
      "0 32.0 male 2\n",
      "0 25.0 male 2\n",
      "0 20.0 male 3\n",
      "0 43.0 male 3\n",
      "2 38.0 female 1\n",
      "2 40.0 female 2\n",
      "0 31.0 male 1\n",
      "0 70.0 male 2\n",
      "0 31.0 male 2\n",
      "0 28.0 male 2\n",
      "0 18.0 male 3\n",
      "0 24.5 male 3\n",
      "1 18.0 female 3\n",
      "2 43.0 female 3\n",
      "0 36.0 male 1\n",
      "1 17.0 female 3\n",
      "0 27.0 male 1\n",
      "0 20.0 male 3\n",
      "0 14.0 male 3\n",
      "0 60.0 male 2\n",
      "0 25.0 male 2\n",
      "0 14.0 male 3\n",
      "0 19.0 male 3\n",
      "0 18.0 male 3\n",
      "1 15.0 female 1\n",
      "0 31.0 male 1\n",
      "1 4.0 female 3\n",
      "0 20.0 male 3\n",
      "0 25.0 male 3\n",
      "4 60.0 male 1\n",
      "0 52.0 male 2\n",
      "0 44.0 male 3\n"
     ]
    },
    {
     "name": "stdout",
     "output_type": "stream",
     "text": [
      "1 17.0 female 3\n",
      "0 49.0 male 1\n",
      "0 42.0 male 3\n",
      "2 18.0 female 1\n",
      "0 35.0 male 1\n",
      "1 18.0 female 3\n",
      "0 25.0 male 3\n",
      "0 26.0 male 3\n",
      "0 39.0 male 2\n",
      "2 45.0 female 2\n",
      "0 42.0 male 1\n",
      "1 22.0 female 1\n",
      "3 20.0 male 3\n",
      "4 24.0 female 1\n",
      "0 46.0 male 1\n",
      "0 48.0 male 1\n",
      "0 29.0 male 3\n",
      "0 52.0 male 2\n",
      "0 19.0 male 3\n",
      "1 38.0 female 1\n",
      "1 27.0 female 2\n",
      "0 20.0 male 3\n",
      "0 33.0 male 3\n",
      "1 6.0 female 2\n",
      "0 17.0 male 3\n",
      "0 34.0 male 2\n",
      "0 50.0 male 2\n",
      "0 27.0 male 1\n",
      "0 20.0 male 3\n",
      "2 30.0 female 2\n",
      "1 17.0 female 3\n",
      "0 25.0 male 2\n",
      "1 25.0 female 3\n",
      "1 29.0 female 1\n",
      "0 11.0 male 3\n",
      "0 28.0 male 2\n",
      "0 23.0 male 2\n",
      "0 23.0 male 2\n",
      "0 28.5 male 3\n",
      "2 48.0 female 3\n",
      "0 35.0 male 1\n",
      "0 20.0 male 3\n",
      "0 20.0 male 3\n",
      "0 46.0 male 1\n",
      "0 36.0 male 1\n",
      "1 21.0 female 1\n",
      "0 24.0 male 3\n",
      "0 31.0 male 3\n",
      "4 70.0 male 1\n",
      "0 16.0 male 3\n",
      "1 30.0 female 2\n",
      "0 19.0 male 1\n",
      "0 31.0 male 3\n",
      "1 4.0 female 2\n",
      "3 6.0 male 3\n",
      "4 33.0 male 3\n",
      "0 23.0 male 3\n",
      "2 48.0 female 2\n",
      "3 0.67 male 2\n",
      "0 28.0 male 3\n",
      "0 18.0 male 2\n",
      "0 34.0 male 3\n",
      "4 33.0 female 1\n",
      "0 20.0 male 3\n",
      "0 41.0 male 3\n",
      "0 20.0 male 3\n",
      "2 36.0 female 1\n",
      "0 16.0 male 3\n",
      "2 51.0 female 1\n",
      "4 46.0 male 1\n",
      "1 30.5 female 3\n",
      "0 20.0 male 3\n",
      "0 32.0 male 3\n",
      "0 24.0 male 3\n",
      "0 48.0 male 3\n",
      "2 57.0 female 2\n",
      "0 20.0 male 3\n",
      "2 54.0 female 2\n",
      "0 18.0 male 3\n",
      "0 20.0 male 3\n",
      "1 5.0 female 3\n",
      "0 20.0 male 3\n",
      "2 43.0 female 1\n",
      "1 13.0 female 3\n",
      "2 17.0 female 1\n",
      "0 29.0 male 1\n",
      "0 20.0 male 3\n",
      "0 25.0 male 3\n",
      "0 25.0 male 3\n",
      "1 18.0 female 3\n",
      "3 8.0 male 3\n",
      "3 1.0 male 3\n",
      "0 46.0 male 1\n",
      "0 20.0 male 3\n",
      "0 16.0 male 2\n",
      "1 17.0 female 3\n",
      "0 46.0 male 1\n",
      "0 25.0 male 3\n",
      "0 39.0 male 2\n",
      "4 49.0 female 1\n",
      "2 31.0 female 3\n",
      "4 30.0 male 3\n",
      "4 30.0 female 3\n",
      "0 34.0 male 2\n",
      "2 31.0 female 2\n",
      "3 11.0 male 1\n",
      "3 0.42 male 3\n",
      "0 27.0 male 3\n",
      "0 31.0 male 3\n",
      "0 39.0 male 1\n",
      "1 18.0 female 3\n",
      "0 39.0 male 2\n",
      "2 33.0 female 1\n",
      "0 26.0 male 3\n",
      "0 39.0 male 3\n",
      "0 35.0 male 2\n",
      "1 6.0 female 3\n",
      "0 30.5 male 3\n",
      "0 46.0 male 1\n",
      "1 23.0 female 3\n",
      "0 31.0 male 2\n",
      "0 43.0 male 3\n",
      "3 10.0 male 3\n",
      "2 52.0 female 1\n",
      "0 27.0 male 3\n",
      "4 38.0 male 1\n",
      "2 27.0 female 3\n",
      "3 2.0 male 3\n",
      "0 20.0 male 3\n",
      "0 20.0 male 3\n",
      "3 1.0 male 2\n",
      "0 20.0 male 3\n",
      "2 62.0 female 1\n",
      "2 15.0 female 3\n",
      "3 0.83 male 2\n",
      "0 20.0 male 3\n",
      "0 23.0 male 3\n",
      "0 18.0 male 3\n",
      "1 39.0 female 1\n",
      "0 21.0 male 3\n",
      "0 20.0 male 3\n",
      "0 32.0 male 3\n",
      "0 46.0 male 1\n",
      "0 20.0 male 3\n",
      "0 16.0 male 2\n",
      "1 30.0 female 1\n",
      "0 34.5 male 3\n",
      "0 17.0 male 3\n",
      "0 42.0 male 3\n",
      "0 20.0 male 3\n",
      "0 35.0 male 3\n",
      "4 28.0 male 2\n",
      "2 38.0 female 1\n",
      "3 4.0 male 3\n",
      "0 74.0 male 3\n",
      "1 9.0 female 3\n",
      "1 16.0 female 1\n",
      "2 44.0 female 2\n",
      "2 18.0 female 3\n",
      "2 45.0 female 1\n",
      "0 51.0 male 1\n",
      "2 24.0 female 3\n",
      "0 20.0 male 3\n",
      "0 41.0 male 3\n",
      "0 21.0 male 2\n",
      "2 48.0 female 1\n",
      "1 17.0 female 3\n",
      "0 24.0 male 2\n",
      "2 42.0 female 2\n",
      "4 27.0 female 2\n",
      "0 31.0 male 1\n",
      "4 20.0 male 3\n",
      "3 4.0 male 3\n",
      "0 26.0 male 3\n",
      "2 47.0 female 1\n",
      "0 33.0 male 1\n",
      "4 47.0 male 3\n",
      "2 28.0 female 2\n",
      "1 15.0 female 3\n",
      "0 20.0 male 3\n",
      "0 19.0 male 3\n",
      "0 20.0 male 3\n",
      "2 56.0 female 1\n",
      "2 25.0 female 2\n",
      "0 33.0 male 3\n",
      "1 22.0 female 3\n",
      "0 28.0 male 2\n",
      "0 25.0 male 3\n",
      "2 39.0 female 3\n",
      "4 27.0 male 2\n",
      "1 19.0 female 1\n",
      "1 17.0 female 3\n",
      "0 26.0 male 1\n",
      "0 32.0 male 3\n"
     ]
    }
   ],
   "source": [
    "for i in range(891):\n",
    "    print(titanic[\"Title\"][i], titanic[\"Age\"][i], titanic[\"Sex\"][i], titanic[\"Pclass\"][i])"
   ]
  },
  {
   "cell_type": "code",
   "execution_count": 28,
   "metadata": {},
   "outputs": [
    {
     "data": {
      "text/plain": [
       "1    687\n",
       "0    204\n",
       "Name: Has_Cabin, dtype: int64"
      ]
     },
     "execution_count": 28,
     "metadata": {},
     "output_type": "execute_result"
    }
   ],
   "source": [
    "titanic['Has_Cabin'] = titanic[\"Cabin\"].apply(lambda x: 1 if type(x) == float else 0)\n",
    "titanic['Has_Cabin'].value_counts()"
   ]
  },
  {
   "cell_type": "code",
   "execution_count": 29,
   "metadata": {},
   "outputs": [],
   "source": [
    "#null_columns=titanic.columns[titanic.isnull().any()]\n",
    "#print(titanic[titanic.isnull().any(axis=1)][null_columns].head())"
   ]
  },
  {
   "cell_type": "code",
   "execution_count": 30,
   "metadata": {},
   "outputs": [
    {
     "data": {
      "image/png": "[encoded data removed]",
      "text/plain": [
       "<Figure size 720x432 with 1 Axes>"
      ]
     },
     "metadata": {
      "needs_background": "light"
     },
     "output_type": "display_data"
    }
   ],
   "source": [
    "pd.crosstab(titanic.Has_Cabin,titanic.Survived).plot(kind=\"bar\",figsize=(10,6))\n",
    "plt.show()"
   ]
  },
  {
   "cell_type": "code",
   "execution_count": 31,
   "metadata": {},
   "outputs": [
    {
     "data": {
      "image/png": "[encoded data removed]",
      "text/plain": [
       "<Figure size 1440x432 with 1 Axes>"
      ]
     },
     "metadata": {
      "needs_background": "light"
     },
     "output_type": "display_data"
    }
   ],
   "source": [
    "pd.crosstab(titanic.Title,titanic.Survived).plot(kind=\"bar\",figsize=(20,6))\n",
    "plt.show()"
   ]
  },
  {
   "cell_type": "code",
   "execution_count": 32,
   "metadata": {},
   "outputs": [
    {
     "data": {
      "image/png": "[encoded data removed]",
      "text/plain": [
       "<Figure size 720x432 with 1 Axes>"
      ]
     },
     "metadata": {
      "needs_background": "light"
     },
     "output_type": "display_data"
    }
   ],
   "source": [
    "pd.crosstab(titanic.IsAlone,titanic.Survived).plot(kind=\"bar\",figsize=(10,6))\n",
    "plt.show()"
   ]
  },
  {
   "cell_type": "code",
   "execution_count": 33,
   "metadata": {},
   "outputs": [
    {
     "data": {
      "text/plain": [
       "1    577\n",
       "0    314\n",
       "Name: SEX, dtype: int64"
      ]
     },
     "execution_count": 33,
     "metadata": {},
     "output_type": "execute_result"
    }
   ],
   "source": [
    "titanic['SEX'] = 1\n",
    "titanic['SEX'] = titanic[\"Sex\"].apply(lambda x: 1 if x == \"male\" else 0)\n",
    "titanic['SEX'].value_counts()"
   ]
  },
  {
   "cell_type": "code",
   "execution_count": 34,
   "metadata": {},
   "outputs": [
    {
     "data": {
      "text/plain": [
       "1    356\n",
       "2    328\n",
       "3    124\n",
       "0     83\n",
       "Name: Age, dtype: int64"
      ]
     },
     "execution_count": 34,
     "metadata": {},
     "output_type": "execute_result"
    }
   ],
   "source": [
    "def age(g):\n",
    "    for i in range(891):\n",
    "        if g <= 15:\n",
    "            return 0\n",
    "        elif g <=25:\n",
    "            return 1\n",
    "        elif g <=45:\n",
    "            return 2\n",
    "        else:\n",
    "            return 3\n",
    "\n",
    "titanic[\"Age\"] = titanic[\"Age\"].apply(age)\n",
    "titanic[\"Age\"].value_counts()"
   ]
  },
  {
   "cell_type": "code",
   "execution_count": 35,
   "metadata": {},
   "outputs": [
    {
     "data": {
      "text/plain": [
       "1    395\n",
       "0    336\n",
       "2    107\n",
       "3     33\n",
       "4     20\n",
       "Name: Fare, dtype: int64"
      ]
     },
     "execution_count": 35,
     "metadata": {},
     "output_type": "execute_result"
    }
   ],
   "source": [
    "def fare(h):\n",
    "    for i in range(891):\n",
    "        if h <= 10:\n",
    "            return 0\n",
    "        elif h <= 50:\n",
    "            return 1\n",
    "        elif h <= 100:\n",
    "            return 2\n",
    "        elif h <=200:\n",
    "            return 3\n",
    "        else:\n",
    "            return 4\n",
    "\n",
    "titanic[\"Fare\"] = titanic[\"Fare\"].apply(fare)\n",
    "titanic[\"Fare\"].value_counts()"
   ]
  },
  {
   "cell_type": "code",
   "execution_count": 36,
   "metadata": {},
   "outputs": [],
   "source": [
    "titanic.drop(['PassengerId', 'Name', 'Sex', 'Ticket', 'Cabin'], inplace=True, axis=1)"
   ]
  },
  {
   "cell_type": "code",
   "execution_count": 37,
   "metadata": {},
   "outputs": [],
   "source": [
    "x = titanic.iloc[:,1:]\n",
    "y = titanic.iloc[:,0]"
   ]
  },
  {
   "cell_type": "code",
   "execution_count": 38,
   "metadata": {},
   "outputs": [
    {
     "data": {
      "text/html": [
       "<div>\n",
       "<style scoped>\n",
       "    .dataframe tbody tr th:only-of-type {\n",
       "        vertical-align: middle;\n",
       "    }\n",
       "\n",
       "    .dataframe tbody tr th {\n",
       "        vertical-align: top;\n",
       "    }\n",
       "\n",
       "    .dataframe thead th {\n",
       "        text-align: right;\n",
       "    }\n",
       "</style>\n",
       "<table border=\"1\" class=\"dataframe\">\n",
       "  <thead>\n",
       "    <tr style=\"text-align: right;\">\n",
       "      <th></th>\n",
       "      <th>Pclass</th>\n",
       "      <th>Age</th>\n",
       "      <th>SibSp</th>\n",
       "      <th>Parch</th>\n",
       "      <th>Fare</th>\n",
       "      <th>Embarked</th>\n",
       "      <th>TotalMembers</th>\n",
       "      <th>Title</th>\n",
       "      <th>IsAlone</th>\n",
       "      <th>Has_Cabin</th>\n",
       "      <th>SEX</th>\n",
       "    </tr>\n",
       "  </thead>\n",
       "  <tbody>\n",
       "    <tr>\n",
       "      <th>0</th>\n",
       "      <td>3</td>\n",
       "      <td>1</td>\n",
       "      <td>1</td>\n",
       "      <td>0</td>\n",
       "      <td>0</td>\n",
       "      <td>0</td>\n",
       "      <td>2</td>\n",
       "      <td>0</td>\n",
       "      <td>0</td>\n",
       "      <td>1</td>\n",
       "      <td>1</td>\n",
       "    </tr>\n",
       "    <tr>\n",
       "      <th>1</th>\n",
       "      <td>1</td>\n",
       "      <td>2</td>\n",
       "      <td>1</td>\n",
       "      <td>0</td>\n",
       "      <td>2</td>\n",
       "      <td>1</td>\n",
       "      <td>2</td>\n",
       "      <td>2</td>\n",
       "      <td>0</td>\n",
       "      <td>0</td>\n",
       "      <td>0</td>\n",
       "    </tr>\n",
       "    <tr>\n",
       "      <th>2</th>\n",
       "      <td>3</td>\n",
       "      <td>2</td>\n",
       "      <td>0</td>\n",
       "      <td>0</td>\n",
       "      <td>0</td>\n",
       "      <td>0</td>\n",
       "      <td>1</td>\n",
       "      <td>1</td>\n",
       "      <td>1</td>\n",
       "      <td>1</td>\n",
       "      <td>0</td>\n",
       "    </tr>\n",
       "    <tr>\n",
       "      <th>3</th>\n",
       "      <td>1</td>\n",
       "      <td>2</td>\n",
       "      <td>1</td>\n",
       "      <td>0</td>\n",
       "      <td>2</td>\n",
       "      <td>0</td>\n",
       "      <td>2</td>\n",
       "      <td>2</td>\n",
       "      <td>0</td>\n",
       "      <td>0</td>\n",
       "      <td>0</td>\n",
       "    </tr>\n",
       "    <tr>\n",
       "      <th>4</th>\n",
       "      <td>3</td>\n",
       "      <td>2</td>\n",
       "      <td>0</td>\n",
       "      <td>0</td>\n",
       "      <td>0</td>\n",
       "      <td>0</td>\n",
       "      <td>1</td>\n",
       "      <td>0</td>\n",
       "      <td>1</td>\n",
       "      <td>1</td>\n",
       "      <td>1</td>\n",
       "    </tr>\n",
       "  </tbody>\n",
       "</table>\n",
       "</div>"
      ],
      "text/plain": [
       "   Pclass  Age  SibSp  Parch  Fare  Embarked  TotalMembers  Title  IsAlone  \\\n",
       "0       3    1      1      0     0         0             2      0        0   \n",
       "1       1    2      1      0     2         1             2      2        0   \n",
       "2       3    2      0      0     0         0             1      1        1   \n",
       "3       1    2      1      0     2         0             2      2        0   \n",
       "4       3    2      0      0     0         0             1      0        1   \n",
       "\n",
       "   Has_Cabin  SEX  \n",
       "0          1    1  \n",
       "1          0    0  \n",
       "2          1    0  \n",
       "3          0    0  \n",
       "4          1    1  "
      ]
     },
     "execution_count": 38,
     "metadata": {},
     "output_type": "execute_result"
    }
   ],
   "source": [
    "x.head()"
   ]
  },
  {
   "cell_type": "code",
   "execution_count": 39,
   "metadata": {},
   "outputs": [
    {
     "name": "stdout",
     "output_type": "stream",
     "text": [
      "(757, 11) (134, 11) (757,) (134,)\n"
     ]
    }
   ],
   "source": [
    "x_train, x_test, y_train, y_test = train_test_split(x, y, test_size=0.15, random_state=0)\n",
    "print(x_train.shape, x_test.shape, y_train.shape, y_test.shape)"
   ]
  },
  {
   "cell_type": "code",
   "execution_count": 40,
   "metadata": {},
   "outputs": [],
   "source": [
    "X = np.array(x_train)\n",
    "Y = np.array(y_train)"
   ]
  },
  {
   "cell_type": "code",
   "execution_count": 42,
   "metadata": {},
   "outputs": [],
   "source": [
    "from sklearn import metrics"
   ]
  },
  {
   "cell_type": "code",
   "execution_count": 43,
   "metadata": {},
   "outputs": [
    {
     "name": "stdout",
     "output_type": "stream",
     "text": [
      "Accuracy for  LogisticRegression is  0.7910447761194029\n"
     ]
    }
   ],
   "source": [
    "model1=LogisticRegression()\n",
    "model1.fit(x_train,y_train)\n",
    "pred=model1.predict(x_test)\n",
    "print('Accuracy for  LogisticRegression is ',metrics.accuracy_score(pred,y_test))"
   ]
  },
  {
   "cell_type": "code",
   "execution_count": 44,
   "metadata": {},
   "outputs": [
    {
     "data": {
      "image/png": "[encoded data removed]",
      "text/plain": [
       "<Figure size 720x576 with 2 Axes>"
      ]
     },
     "metadata": {
      "needs_background": "light"
     },
     "output_type": "display_data"
    }
   ],
   "source": [
    "plt.figure(figsize=(10,8))\n",
    "ax= plt.subplot()\n",
    "sns.heatmap(confusion_matrix(y_test,pred), annot=True, ax = ax, fmt='g',cmap='YlGnBu') \n",
    "ax.set_title('Confusion Matrix')\n",
    "plt.show()"
   ]
  },
  {
   "cell_type": "code",
   "execution_count": 47,
   "metadata": {},
   "outputs": [
    {
     "name": "stdout",
     "output_type": "stream",
     "text": [
      "Accuracy for rbf SVM is  0.8134328358208955\n"
     ]
    }
   ],
   "source": [
    "from sklearn.svm import SVC\n",
    "\n",
    "model2=SVC(kernel='rbf',C=1,gamma=0.1)\n",
    "model2.fit(x_train,y_train)\n",
    "pred=model2.predict(x_test)\n",
    "print('Accuracy for rbf SVM is ',metrics.accuracy_score(pred,y_test))"
   ]
  },
  {
   "cell_type": "code",
   "execution_count": 48,
   "metadata": {},
   "outputs": [
    {
     "data": {
      "image/png": "[encoded data removed]",
      "text/plain": [
       "<Figure size 720x576 with 2 Axes>"
      ]
     },
     "metadata": {
      "needs_background": "light"
     },
     "output_type": "display_data"
    }
   ],
   "source": [
    "plt.figure(figsize=(10,8))\n",
    "ax= plt.subplot()\n",
    "sns.heatmap(confusion_matrix(y_test,pred), annot=True, ax = ax, fmt='g',cmap='YlGnBu') \n",
    "ax.set_title('Confusion Matrix')\n",
    "plt.show()"
   ]
  },
  {
   "cell_type": "code",
   "execution_count": 50,
   "metadata": {},
   "outputs": [
    {
     "name": "stdout",
     "output_type": "stream",
     "text": [
      "Accuracy for linear SVM is  0.7686567164179104\n"
     ]
    }
   ],
   "source": [
    "model3=SVC(kernel='linear',C=1,gamma=0.1)\n",
    "model3.fit(x_train,y_train)\n",
    "pred=model3.predict(x_test)\n",
    "print('Accuracy for linear SVM is ',metrics.accuracy_score(pred,y_test))"
   ]
  },
  {
   "cell_type": "code",
   "execution_count": 51,
   "metadata": {},
   "outputs": [
    {
     "data": {
      "image/png": "[encoded data removed]",
      "text/plain": [
       "<Figure size 720x576 with 2 Axes>"
      ]
     },
     "metadata": {
      "needs_background": "light"
     },
     "output_type": "display_data"
    }
   ],
   "source": [
    "plt.figure(figsize=(10,8))\n",
    "ax= plt.subplot()\n",
    "sns.heatmap(confusion_matrix(y_test,pred), annot=True, ax = ax, fmt='g',cmap='YlGnBu') \n",
    "ax.set_title('Confusion Matrix')\n",
    "plt.show()"
   ]
  },
  {
   "cell_type": "code",
   "execution_count": 53,
   "metadata": {},
   "outputs": [
    {
     "name": "stdout",
     "output_type": "stream",
     "text": [
      "Accuracy for KNeighborsClassifier is  0.8432835820895522\n"
     ]
    }
   ],
   "source": [
    "from sklearn.neighbors import KNeighborsClassifier\n",
    "\n",
    "model4=KNeighborsClassifier(n_neighbors=24)\n",
    "model4.fit(x_train,y_train)\n",
    "pred=model4.predict(x_test)\n",
    "print('Accuracy for KNeighborsClassifier is ',metrics.accuracy_score(pred,y_test))"
   ]
  },
  {
   "cell_type": "code",
   "execution_count": 54,
   "metadata": {},
   "outputs": [
    {
     "data": {
      "image/png": "[encoded data removed]",
      "text/plain": [
       "<Figure size 720x576 with 2 Axes>"
      ]
     },
     "metadata": {
      "needs_background": "light"
     },
     "output_type": "display_data"
    }
   ],
   "source": [
    "plt.figure(figsize=(10,8))\n",
    "ax= plt.subplot()\n",
    "sns.heatmap(confusion_matrix(y_test,pred), annot=True, ax = ax, fmt='g',cmap='YlGnBu') \n",
    "ax.set_title('Confusion Matrix')\n",
    "plt.show()"
   ]
  },
  {
   "cell_type": "code",
   "execution_count": 56,
   "metadata": {},
   "outputs": [],
   "source": [
    "from sklearn.ensemble import RandomForestClassifier"
   ]
  },
  {
   "cell_type": "code",
   "execution_count": 57,
   "metadata": {},
   "outputs": [
    {
     "name": "stdout",
     "output_type": "stream",
     "text": [
      "Accuracy for RandomForestClassifier is  0.8134328358208955\n"
     ]
    }
   ],
   "source": [
    "model5 = RandomForestClassifier(criterion='gini',n_estimators=1750,max_depth=7,min_samples_split=6,min_samples_leaf=6,\n",
    "                                max_features='auto',oob_score=True,random_state=42,n_jobs=-1)\n",
    "model5.fit(x_train,y_train)\n",
    "pred=model5.predict(x_test)\n",
    "print('Accuracy for RandomForestClassifier is ',metrics.accuracy_score(pred,y_test))"
   ]
  },
  {
   "cell_type": "code",
   "execution_count": 58,
   "metadata": {},
   "outputs": [
    {
     "data": {
      "image/png": "[encoded data removed]",
      "text/plain": [
       "<Figure size 720x504 with 2 Axes>"
      ]
     },
     "metadata": {
      "needs_background": "light"
     },
     "output_type": "display_data"
    }
   ],
   "source": [
    "plt.figure(figsize=(10,7))\n",
    "ax= plt.subplot()\n",
    "sns.heatmap(confusion_matrix(y_test,pred), annot=True, ax = ax, fmt='g',cmap='YlGnBu') \n",
    "ax.set_title('Confusion Matrix')\n",
    "plt.show()"
   ]
  },
  {
   "cell_type": "code",
   "execution_count": 59,
   "metadata": {},
   "outputs": [],
   "source": [
    "import pickle\n",
    "pickle_out = open(\"classifier_titanic.pkl\",\"wb\")\n",
    "pickle.dump(model4, pickle_out)\n",
    "pickle_out.close()"
   ]
  }
 ],
 "metadata": {
  "kernelspec": {
   "display_name": "Python 3",
   "language": "python",
   "name": "python3"
  },
  "language_info": {
   "codemirror_mode": {
    "name": "ipython",
    "version": 3
   },
   "file_extension": ".py",
   "mimetype": "text/x-python",
   "name": "python",
   "nbconvert_exporter": "python",
   "pygments_lexer": "ipython3",
   "version": "3.7.6"
  }
 },
 "nbformat": 4,
 "nbformat_minor": 4
}
